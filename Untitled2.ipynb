{
 "cells": [
  {
   "cell_type": "code",
   "execution_count": null,
   "id": "d56d1fff-b76a-4086-84fb-8c4db992ad78",
   "metadata": {},
   "outputs": [],
   "source": [
    "Q1. What are the key steps involved in building an end-to-end web application, from development to\n",
    "deployment on the cloud?"
   ]
  },
  {
   "cell_type": "code",
   "execution_count": null,
   "id": "030bd383-b036-4adb-9e94-e23ce1e4c51d",
   "metadata": {},
   "outputs": [],
   "source": [
    "Building an end-to-end web application and deploying it to the cloud involves several key steps. Here's an overview of the typical process:\n",
    "\n",
    "**1. Define the Project:**\n",
    "\n",
    "- Clearly define the objectives and scope of your web application project. Understand the problem you're solving and the target audience.\n",
    "\n",
    "**2. Choose a Technology Stack:**\n",
    "\n",
    "- Select the programming languages, frameworks, libraries, and tools you'll use to build your web application. Consider factors like scalability, performance, and your team's expertise.\n",
    "\n",
    "**3. Design the User Interface (UI):**\n",
    "\n",
    "- Create wireframes and design mockups for the user interface. Design a user-friendly and intuitive layout. Decide on the color scheme, typography, and overall look and feel.\n",
    "\n",
    "**4. Develop the Back-End:**\n",
    "\n",
    "- Build the server-side logic of your application. This includes handling requests, processing data, and interacting with databases.\n",
    "- Choose a back-end framework (e.g., Django, Ruby on Rails, Express.js) and set up your database (e.g., MySQL, PostgreSQL, MongoDB).\n",
    "\n",
    "**5. Develop the Front-End:**\n",
    "\n",
    "- Create the client-side of your application. Develop interactive and responsive web pages using HTML, CSS, and JavaScript (or a JavaScript framework like React, Angular, or Vue.js).\n",
    "- Implement user authentication, form validation, and client-side routing as needed.\n",
    "\n",
    "**6. Testing:**\n",
    "\n",
    "- Thoroughly test your application to identify and fix bugs. Perform unit testing, integration testing, and end-to-end testing.\n",
    "- Consider automated testing tools and practices to streamline the testing process.\n",
    "\n",
    "**7. Database Management:**\n",
    "\n",
    "- Ensure the database schema is designed to efficiently store and retrieve data.\n",
    "- Implement data migration scripts to manage database changes over time.\n",
    "\n",
    "**8. Security:**\n",
    "\n",
    "- Implement security best practices, including data validation, input sanitization, and protection against common web application vulnerabilities like SQL injection and cross-site scripting (XSS).\n",
    "- Set up HTTPS for secure data transmission.\n",
    "\n",
    "**9. Performance Optimization:**\n",
    "\n",
    "- Optimize your application for speed and performance. Minimize page load times and optimize database queries.\n",
    "- Use content delivery networks (CDNs) for static assets and caching mechanisms.\n",
    "\n",
    "**10. Deployment:**\n",
    "\n",
    "- Choose a cloud provider (e.g., AWS, Azure, Google Cloud) and set up an account.\n",
    "- Configure your server environment, including virtual machines, containers (e.g., Docker), or serverless platforms (e.g., AWS Lambda).\n",
    "- Deploy your application code and database to the cloud server.\n",
    "\n",
    "**11. Continuous Integration and Continuous Deployment (CI/CD):**\n",
    "\n",
    "- Implement CI/CD pipelines to automate the build, testing, and deployment process. Tools like Jenkins, Travis CI, or GitHub Actions can help with this.\n",
    "- Enable automatic deployments whenever changes are pushed to the code repository.\n",
    "\n",
    "**12. Monitoring and Logging:**\n",
    "\n",
    "- Set up monitoring and logging solutions to track application performance, detect issues, and troubleshoot problems.\n",
    "- Use tools like Prometheus, Grafana, or cloud-specific monitoring services.\n",
    "\n",
    "**13. Scalability and Load Balancing:**\n",
    "\n",
    "- Plan for scalability by using load balancers and auto-scaling groups to handle increased traffic.\n",
    "- Monitor server resources and scale up or down as needed.\n",
    "\n",
    "**14. Domain Name and DNS:**\n",
    "\n",
    "- Register a domain name for your application and configure DNS settings to point to your cloud server.\n",
    "\n",
    "**15. Security and Access Control:**\n",
    "\n",
    "- Implement access control mechanisms to restrict access to sensitive parts of your application.\n",
    "- Regularly update and patch server software to address security vulnerabilities.\n",
    "\n",
    "**16. Backups and Disaster Recovery:**\n",
    "\n",
    "- Set up regular backups of your data and application code.\n",
    "- Develop a disaster recovery plan in case of unexpected events.\n",
    "\n",
    "**17. User Documentation:**\n",
    "\n",
    "- Create user documentation and help guides to assist users in navigating and using your application.\n",
    "\n",
    "**18. User Testing:**\n",
    "\n",
    "- Conduct user testing to gather feedback and make improvements to the application's usability and functionality.\n",
    "\n",
    "**19. Final Review:**\n",
    "\n",
    "- Perform a final review of your application, ensuring that it meets all requirements and performs as expected.\n",
    "\n",
    "**20. Launch and Marketing:**\n",
    "\n",
    "- Plan a launch strategy for your web application, including marketing efforts and promotion.\n",
    "- Announce the launch on social media, your website, and relevant communities.\n",
    "\n",
    "**21. Maintenance and Updates:**\n",
    "\n",
    "- Continuously monitor and maintain your application, addressing issues, and releasing updates as necessary to improve functionality and security.\n",
    "\n",
    "Building and deploying a web application is an iterative process, and ongoing maintenance and updates are critical to its long-term success. Additionally, consider cloud-specific services and features that can enhance the scalability, reliability, and performance of your application."
   ]
  },
  {
   "cell_type": "code",
   "execution_count": null,
   "id": "b454e162-3f69-4b3c-b11f-a9b02a350213",
   "metadata": {},
   "outputs": [],
   "source": [
    "Q2. Explain the difference between traditional web hosting and cloud hosting."
   ]
  },
  {
   "cell_type": "code",
   "execution_count": null,
   "id": "cc54ee4b-39c3-437b-bc07-d1c2bb65c76c",
   "metadata": {},
   "outputs": [],
   "source": [
    "Traditional web hosting and cloud hosting are two different approaches to hosting websites and web applications. Here are the key differences between them:\n",
    "\n",
    "**1. Infrastructure:**\n",
    "\n",
    "- **Traditional Web Hosting:**\n",
    "  - In traditional hosting, websites and applications are hosted on physical servers maintained by a hosting provider.\n",
    "  - These physical servers are located in data centers and are dedicated to specific clients or shared among multiple clients in a shared hosting environment.\n",
    "  - Resources (CPU, RAM, storage) are allocated based on fixed plans, and scaling can be limited.\n",
    "\n",
    "- **Cloud Hosting:**\n",
    "  - Cloud hosting relies on virtualized infrastructure provided by cloud service providers like AWS, Azure, Google Cloud, and others.\n",
    "  - Resources are dynamically allocated from a pool of virtualized servers and storage, allowing for easy scaling up or down as needed.\n",
    "  - Users pay for the resources they consume on a pay-as-you-go basis, making it more cost-effective and flexible.\n",
    "\n",
    "**2. Scalability:**\n",
    "\n",
    "- **Traditional Web Hosting:**\n",
    "  - Scaling resources in traditional hosting often requires manual intervention and may involve migrating to a more powerful server or upgrading the hosting plan.\n",
    "  - It can be challenging to handle sudden traffic spikes efficiently.\n",
    "\n",
    "- **Cloud Hosting:**\n",
    "  - Cloud hosting offers automatic scalability. Resources can be scaled up or down dynamically in response to changes in demand.\n",
    "  - This elasticity is a significant advantage for applications with varying workloads and traffic patterns.\n",
    "\n",
    "**3. Cost Structure:**\n",
    "\n",
    "- **Traditional Web Hosting:**\n",
    "  - Traditional hosting plans typically involve fixed monthly or yearly fees, regardless of resource usage.\n",
    "  - There may be overage charges for exceeding allocated resources.\n",
    "\n",
    "- **Cloud Hosting:**\n",
    "  - Cloud hosting follows a pay-as-you-go model, where users are billed based on actual resource consumption.\n",
    "  - This cost structure can be more cost-effective for businesses with fluctuating resource requirements.\n",
    "\n",
    "**4. Reliability and Redundancy:**\n",
    "\n",
    "- **Traditional Web Hosting:**\n",
    "  - Reliability depends on the hosting provider's infrastructure and may vary.\n",
    "  - Redundancy and backup mechanisms may be limited or require additional fees.\n",
    "\n",
    "- **Cloud Hosting:**\n",
    "  - Cloud providers typically offer high levels of reliability through redundancy and failover mechanisms.\n",
    "  - Data is often replicated across multiple data centers, reducing the risk of downtime.\n",
    "\n",
    "**5. Management and Control:**\n",
    "\n",
    "- **Traditional Web Hosting:**\n",
    "  - Hosting providers manage the physical servers, networking, and hardware.\n",
    "  - Users have limited control over server configurations.\n",
    "\n",
    "- **Cloud Hosting:**\n",
    "  - Cloud users have more control over server configurations and can customize virtual machines (VMs) to their needs.\n",
    "  - Management tasks can be performed through web-based control panels or APIs.\n",
    "\n",
    "**6. Security:**\n",
    "\n",
    "- **Traditional Web Hosting:**\n",
    "  - Security measures are the responsibility of the hosting provider and may vary in effectiveness.\n",
    "  - Users need to secure their applications and data.\n",
    "\n",
    "- **Cloud Hosting:**\n",
    "  - Cloud providers often offer a range of security services, including firewalls, DDoS protection, identity and access management, and encryption.\n",
    "  - Users can implement additional security measures to protect their cloud resources.\n",
    "\n",
    "**7. Geographic Reach:**\n",
    "\n",
    "- **Traditional Web Hosting:**\n",
    "  - The geographic reach of traditional hosting is limited to the data centers of the hosting provider.\n",
    "  - Expanding to different regions may require setting up separate hosting accounts.\n",
    "\n",
    "- **Cloud Hosting:**\n",
    "  - Cloud providers have data centers in multiple regions and countries, allowing users to deploy applications globally with low-latency access.\n",
    "\n",
    "**8. Backup and Disaster Recovery:**\n",
    "\n",
    "- **Traditional Web Hosting:**\n",
    "  - Backup and disaster recovery solutions may be limited or offered as optional services.\n",
    "  - Users need to implement their own backup strategies.\n",
    "\n",
    "- **Cloud Hosting:**\n",
    "  - Cloud providers often offer automated backup and disaster recovery options.\n",
    "  - Data redundancy and backup services are typically part of the package.\n",
    "\n",
    "In summary, cloud hosting offers greater scalability, flexibility, and cost-efficiency compared to traditional web hosting. It provides a dynamic and on-demand approach to hosting, making it well-suited for modern web applications and businesses with changing requirements. Traditional hosting, on the other hand, may still be appropriate for simpler websites with consistent traffic and resource needs."
   ]
  },
  {
   "cell_type": "code",
   "execution_count": null,
   "id": "97f1349b-d980-429d-ab56-c19f581f14f9",
   "metadata": {},
   "outputs": [],
   "source": [
    "Q3. How do you choose the right cloud provider for your application deployment, and what factors\n",
    "should you consider?"
   ]
  },
  {
   "cell_type": "code",
   "execution_count": null,
   "id": "04e80ece-4174-4696-ad9b-0dfb07974678",
   "metadata": {},
   "outputs": [],
   "source": [
    "Choosing the right cloud provider for your application deployment is a critical decision that can significantly impact your project's success. To make an informed choice, consider the following factors:\n",
    "\n",
    "1. **Application Requirements:**\n",
    "\n",
    "   - Start by understanding your application's specific requirements. Consider factors like scalability, performance, storage, and networking needs.\n",
    "   - Determine if your application is better suited for a particular cloud provider's services (e.g., AWS Lambda for serverless, Google Kubernetes Engine for containerized applications).\n",
    "\n",
    "2. **Cost and Pricing Model:**\n",
    "\n",
    "   - Evaluate the cost structure and pricing model of each cloud provider. Consider not only the base pricing but also the cost of additional services, data transfer, and storage.\n",
    "   - Look at your projected usage and budget to estimate costs accurately.\n",
    "\n",
    "3. **Geographic Reach:**\n",
    "\n",
    "   - If your application has a global user base, consider a cloud provider with a broad geographic reach and multiple data centers in regions relevant to your users.\n",
    "   - Look for providers that offer Content Delivery Network (CDN) services for low-latency content delivery worldwide.\n",
    "\n",
    "4. **Service Offerings:**\n",
    "\n",
    "   - Assess the range of services and features offered by each provider. Check if they provide the necessary tools, databases, AI/ML services, and developer-friendly resources.\n",
    "   - Consider your specific tech stack and see if it aligns with the provider's offerings.\n",
    "\n",
    "5. **Scalability and Elasticity:**\n",
    "\n",
    "   - Ensure that the cloud provider can accommodate your application's scalability needs. Look for auto-scaling capabilities and load balancing features.\n",
    "   - Assess how easily you can scale resources up or down based on demand.\n",
    "\n",
    "6. **Reliability and Availability:**\n",
    "\n",
    "   - Evaluate the provider's Service Level Agreements (SLAs) for uptime and availability.\n",
    "   - Check if they offer redundancy, failover, and disaster recovery options to ensure high availability.\n",
    "\n",
    "7. **Security and Compliance:**\n",
    "\n",
    "   - Assess the cloud provider's security features, including data encryption, identity and access management, firewall options, and compliance certifications (e.g., SOC 2, HIPAA).\n",
    "   - Ensure they meet industry-specific regulatory requirements if applicable.\n",
    "\n",
    "8. **Management and Monitoring Tools:**\n",
    "\n",
    "   - Consider the quality of the management and monitoring tools provided by the cloud provider. Look for features like centralized dashboards, alerting, and logging capabilities.\n",
    "   - Evaluate the ease of management and control over your resources.\n",
    "\n",
    "9. **Support and Documentation:**\n",
    "\n",
    "   - Check the quality of customer support and technical documentation provided by the cloud provider. Responsive support can be crucial in times of issues or outages.\n",
    "   - Look for a vibrant user community and forums where you can seek help and share experiences.\n",
    "\n",
    "10. **Vendor Lock-In:**\n",
    "\n",
    "    - Be aware of potential vendor lock-in when choosing a cloud provider. Consider how easy it is to migrate your application and data to another provider or back to on-premises infrastructure.\n",
    "\n",
    "11. **User Experience:**\n",
    "\n",
    "    - Consider your team's familiarity with the provider's ecosystem and tools. If your team is already skilled in a particular provider's services, it may be more efficient to stick with that provider.\n",
    "\n",
    "12. **Future Growth and Innovation:**\n",
    "\n",
    "    - Assess the provider's track record in terms of innovation and their commitment to staying at the forefront of technology. Consider how they adapt to emerging trends.\n",
    "\n",
    "13. **Budget and Cost Management:**\n",
    "\n",
    "    - Set a clear budget and cost management strategy. Cloud costs can escalate quickly if not monitored, so having cost control tools and practices in place is crucial.\n",
    "\n",
    "14. **Case Studies and References:**\n",
    "\n",
    "    - Look for case studies and references from organizations with similar use cases. Real-world examples can provide insights into the provider's capabilities and performance.\n",
    "\n",
    "15. **Trial Period:**\n",
    "\n",
    "    - Many cloud providers offer free trial periods or credits. Take advantage of these to test their services and assess their suitability for your application.\n",
    "\n",
    "Ultimately, the choice of a cloud provider should align with your application's technical requirements, budget constraints, and long-term goals. Consider the trade-offs and advantages of each provider and, if possible, perform proof-of-concept testing to ensure compatibility with your application's needs. Additionally, be prepared to adapt and optimize your cloud usage over time as your application evolves."
   ]
  },
  {
   "cell_type": "code",
   "execution_count": null,
   "id": "c33c39ae-d6b3-4df0-994e-dc12c25f7a18",
   "metadata": {},
   "outputs": [],
   "source": [
    "Q4. How do you design and build a responsive user interface for your web application, and what are\n",
    "some best practices to follow?"
   ]
  },
  {
   "cell_type": "code",
   "execution_count": null,
   "id": "3de4c7cd-f270-4468-8481-a7d466191ca8",
   "metadata": {},
   "outputs": [],
   "source": [
    "Designing and building a responsive user interface (UI) for your web application ensures that it looks and functions well across various devices and screen sizes, providing an optimal user experience. Here are the steps and best practices to follow:\n",
    "\n",
    "1. Mobile-First Design:\n",
    "\n",
    "Start with a mobile-first approach. Design the UI for small screens (e.g., smartphones) first and then scale up to larger screens (e.g., tablets and desktops).\n",
    "This approach ensures that your UI remains functional and user-friendly on smaller devices.\n",
    "2. Use Responsive Frameworks:\n",
    "\n",
    "Consider using responsive front-end frameworks like Bootstrap, Foundation, or Materialize. These frameworks offer pre-designed components and responsive grids that make it easier to build responsive designs.\n",
    "3. Fluid Layouts:\n",
    "\n",
    "Create fluid layouts that adapt to the available screen width. Use percentage-based widths for elements rather than fixed pixel values.\n",
    "Use CSS media queries to apply specific styles based on screen size.\n",
    "4. CSS Grid and Flexbox:\n",
    "\n",
    "Learn and use CSS Grid and Flexbox for more advanced layout control. These CSS features provide powerful tools for creating responsive and complex layouts.\n",
    "5. Breakpoints:\n",
    "\n",
    "Define breakpoints in your CSS to target different screen sizes. Common breakpoints include those for small screens (e.g., smartphones), medium screens (e.g., tablets), and large screens (e.g., desktops).\n",
    "Adjust typography, spacing, and layout as needed at each breakpoint.\n",
    "6. Images and Media:\n",
    "\n",
    "Optimize images for different screen sizes and resolutions. Use responsive image techniques such as srcset and sizes attributes in HTML.\n",
    "Consider using vector graphics (SVG) for icons and logos, as they scale without loss of quality.\n",
    "7. Typography:\n",
    "\n",
    "Choose web fonts that are legible on both small and large screens.\n",
    "Use relative units (e.g., em or rem) for font sizes to ensure text scales appropriately.\n",
    "8. Touch-Friendly UI:\n",
    "\n",
    "Design UI elements (buttons, links, form inputs) with touch-friendly sizes, ensuring that they are easy to tap on mobile devices.\n",
    "Use CSS for touch effects, such as highlighting or button press animations.\n",
    "9. Navigation Menus:\n",
    "\n",
    "Implement responsive navigation menus. Consider off-canvas menus, hamburger menus, or collapsible navigation for smaller screens.\n",
    "Prioritize essential navigation items for mobile users."
   ]
  },
  {
   "cell_type": "code",
   "execution_count": null,
   "id": "8f5c9331-f575-475f-a465-cd8cd4d585a2",
   "metadata": {},
   "outputs": [],
   "source": [
    "10. Testing Across Devices:"
   ]
  },
  {
   "cell_type": "code",
   "execution_count": null,
   "id": "1c35fc30-a8fa-4f66-be57-c3365e995344",
   "metadata": {},
   "outputs": [],
   "source": [
    "- Regularly test your web application on various devices and screen sizes, including smartphones, tablets, and desktop computers.\n",
    "- Use browser developer tools to simulate different screen sizes during development.\n"
   ]
  },
  {
   "cell_type": "code",
   "execution_count": null,
   "id": "33e0eaeb-098d-4139-b772-bda120e0ef2f",
   "metadata": {},
   "outputs": [],
   "source": [
    "11. Cross-Browser Compatibility:"
   ]
  },
  {
   "cell_type": "code",
   "execution_count": null,
   "id": "b230ffa7-9123-4e1b-89d3-c6ec6390e959",
   "metadata": {},
   "outputs": [],
   "source": [
    "- Ensure that your responsive design works across different web browsers. Test in major browsers such as Chrome, Firefox, Safari, and Edge.\n"
   ]
  },
  {
   "cell_type": "code",
   "execution_count": null,
   "id": "130ae40f-7245-4277-84f2-b7edfe9e584e",
   "metadata": {},
   "outputs": [],
   "source": [
    "12. Performance Optimization:"
   ]
  },
  {
   "cell_type": "code",
   "execution_count": null,
   "id": "c7dd4f76-8a04-4c56-a98c-53064aa44edb",
   "metadata": {},
   "outputs": [],
   "source": [
    "- Optimize performance by minimizing the use of large images, unnecessary scripts, and heavy stylesheets. Consider lazy loading for images.\n",
    "- Use Content Delivery Networks (CDNs) to deliver assets efficiently.\n"
   ]
  },
  {
   "cell_type": "code",
   "execution_count": null,
   "id": "d7cdaeac-621f-4adb-8c30-e1d6864d8e87",
   "metadata": {},
   "outputs": [],
   "source": [
    "13. Accessibility (A11y):"
   ]
  },
  {
   "cell_type": "code",
   "execution_count": null,
   "id": "d4a9da7a-1658-4ac1-aa9d-52e484150b49",
   "metadata": {},
   "outputs": [],
   "source": [
    "- Implement accessibility best practices, including proper semantic HTML elements and ARIA attributes.\n",
    "- Test your UI with screen readers and keyboard navigation to ensure accessibility for all users.\n"
   ]
  },
  {
   "cell_type": "code",
   "execution_count": null,
   "id": "9cdcbe6b-9b27-4793-9059-dc4f8de88064",
   "metadata": {},
   "outputs": [],
   "source": [
    "14. User Testing:"
   ]
  },
  {
   "cell_type": "code",
   "execution_count": null,
   "id": "21eb527a-e2ab-4375-bf65-8dc20024124a",
   "metadata": {},
   "outputs": [],
   "source": [
    "- Conduct usability testing with real users to gather feedback on the responsive design. Identify and address usability issues.\n"
   ]
  },
  {
   "cell_type": "code",
   "execution_count": null,
   "id": "b5a5eb1d-f072-4ab3-8a50-a198133c8b7c",
   "metadata": {},
   "outputs": [],
   "source": [
    "15. Continuous Monitoring:"
   ]
  },
  {
   "cell_type": "code",
   "execution_count": null,
   "id": "459e5c80-49e2-47c3-91d0-e7245ea3752a",
   "metadata": {},
   "outputs": [],
   "source": [
    "- Regularly monitor your application's performance and user experience on different devices and screen sizes.\n",
    "- Make adjustments and improvements based on user feedback and evolving device trends.\n"
   ]
  },
  {
   "cell_type": "code",
   "execution_count": null,
   "id": "915fd0e8-1be2-4b1b-a7e2-ea8ecfe54ed0",
   "metadata": {},
   "outputs": [],
   "source": [
    "16. Documentation:"
   ]
  },
  {
   "cell_type": "code",
   "execution_count": null,
   "id": "cf98783c-f69b-4873-aa62-11e840c31fc3",
   "metadata": {},
   "outputs": [],
   "source": [
    "- Document your responsive design guidelines and maintain a style guide for consistency in UI elements and responsive behavior.\n"
   ]
  },
  {
   "cell_type": "code",
   "execution_count": null,
   "id": "8425a54b-76d8-47a2-addf-b716fed235f1",
   "metadata": {},
   "outputs": [],
   "source": [
    "17. CSS Preprocessors:"
   ]
  },
  {
   "cell_type": "code",
   "execution_count": null,
   "id": "f87225ca-120c-41f4-9da0-615502dd656b",
   "metadata": {},
   "outputs": [],
   "source": [
    "- Consider using CSS preprocessors like Sass or Less to streamline your CSS development and make it easier to manage responsive styles.\n"
   ]
  },
  {
   "cell_type": "code",
   "execution_count": null,
   "id": "2435cf31-df65-47d3-abe1-5d9dcb17c508",
   "metadata": {},
   "outputs": [],
   "source": [
    "Building a responsive UI is an ongoing process that requires continuous attention to user feedback and changes in technology. By following best practices and keeping user needs in mind, you can create a web application that provides an excellent user experience across a wide range of devices and screen sizes."
   ]
  },
  {
   "cell_type": "code",
   "execution_count": null,
   "id": "8324dd12-60f7-44ce-a102-a85fc02dffc9",
   "metadata": {},
   "outputs": [],
   "source": [
    "Q5. How do you integrate the machine learning model with the user interface for the Algerian Forest Fires\n",
    "project(which we discussed in class), and what APIs or libraries can you use for this purpose?"
   ]
  },
  {
   "cell_type": "code",
   "execution_count": null,
   "id": "d5e4a648-1775-4213-80be-06add507d26f",
   "metadata": {},
   "outputs": [],
   "source": []
  },
  {
   "cell_type": "code",
   "execution_count": null,
   "id": "73636ac3-fd04-40fe-a189-04481992c0a8",
   "metadata": {},
   "outputs": [],
   "source": []
  }
 ],
 "metadata": {
  "kernelspec": {
   "display_name": "Python 3 (ipykernel)",
   "language": "python",
   "name": "python3"
  },
  "language_info": {
   "codemirror_mode": {
    "name": "ipython",
    "version": 3
   },
   "file_extension": ".py",
   "mimetype": "text/x-python",
   "name": "python",
   "nbconvert_exporter": "python",
   "pygments_lexer": "ipython3",
   "version": "3.10.6"
  }
 },
 "nbformat": 4,
 "nbformat_minor": 5
}
